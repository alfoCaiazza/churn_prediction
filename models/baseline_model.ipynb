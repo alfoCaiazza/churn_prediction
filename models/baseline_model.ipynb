{
 "cells": [
  {
   "cell_type": "code",
   "execution_count": 1,
   "id": "10e9cf4f",
   "metadata": {},
   "outputs": [],
   "source": [
    "import pandas as pd\n",
    "from sklearn.linear_model import LogisticRegression\n",
    "from sklearn.model_selection import train_test_split\n",
    "from sklearn.metrics import classification_report"
   ]
  },
  {
   "cell_type": "code",
   "execution_count": 2,
   "id": "0a02f97c",
   "metadata": {},
   "outputs": [],
   "source": [
    "DF_PATH = \"../data/dataframes/telecom_churn_scaled.csv\"\n",
    "\n",
    "df = pd.read_csv(DF_PATH)"
   ]
  },
  {
   "cell_type": "code",
   "execution_count": 3,
   "id": "c308f3d4",
   "metadata": {},
   "outputs": [],
   "source": [
    "# Train and test split\n",
    "X = df.drop(columns=['Churn'])\n",
    "y = df['Churn']\n",
    "X_train, X_test, y_train, y_test =  train_test_split(X, y, test_size=0.2, shuffle=True, stratify=y, random_state=42)"
   ]
  },
  {
   "cell_type": "code",
   "execution_count": 4,
   "id": "398d028c",
   "metadata": {},
   "outputs": [
    {
     "name": "stderr",
     "output_type": "stream",
     "text": [
      "/home/acaia/miniconda3/envs/template_env/lib/python3.11/site-packages/sklearn/linear_model/_sag.py:348: ConvergenceWarning: The max_iter was reached which means the coef_ did not converge\n",
      "  warnings.warn(\n"
     ]
    },
    {
     "data": {
      "text/plain": [
       "{'0': {'precision': 0.9416909620991254,\n",
       "  'recall': 0.5666666666666667,\n",
       "  'f1-score': 0.7075575027382256,\n",
       "  'support': 570.0},\n",
       " '1': {'precision': 0.23765432098765432,\n",
       "  'recall': 0.7938144329896907,\n",
       "  'f1-score': 0.3657957244655582,\n",
       "  'support': 97.0},\n",
       " 'accuracy': 0.5997001499250375,\n",
       " 'macro avg': {'precision': 0.5896726415433898,\n",
       "  'recall': 0.6802405498281787,\n",
       "  'f1-score': 0.5366766136018919,\n",
       "  'support': 667.0},\n",
       " 'weighted avg': {'precision': 0.8393048238865125,\n",
       "  'recall': 0.5997001499250375,\n",
       "  'f1-score': 0.6578560147435498,\n",
       "  'support': 667.0}}"
      ]
     },
     "execution_count": 4,
     "metadata": {},
     "output_type": "execute_result"
    }
   ],
   "source": [
    "# Instantiating a baseline model and fitting it\n",
    "log_reg = LogisticRegression(penalty='elasticnet', C=10, solver='saga', class_weight='balanced', l1_ratio=1, max_iter=1000)\n",
    "log_reg.fit(X_train, y_train)\n",
    "\n",
    "# Evaluating predictions\n",
    "preds = log_reg.predict(X_test)\n",
    "results = classification_report(y_true=y_test, y_pred=preds, output_dict=True)\n",
    "results"
   ]
  },
  {
   "cell_type": "code",
   "execution_count": 7,
   "id": "b3081d33",
   "metadata": {},
   "outputs": [
    {
     "data": {
      "text/plain": [
       "{'0': {'precision': 0.9362416107382551,\n",
       "  'recall': 0.9789473684210527,\n",
       "  'f1-score': 0.9571183533447685,\n",
       "  'support': 570.0},\n",
       " '1': {'precision': 0.8309859154929577,\n",
       "  'recall': 0.6082474226804123,\n",
       "  'f1-score': 0.7023809523809523,\n",
       "  'support': 97.0},\n",
       " 'accuracy': 0.9250374812593704,\n",
       " 'macro avg': {'precision': 0.8836137631156065,\n",
       "  'recall': 0.7935973955507325,\n",
       "  'f1-score': 0.8297496528628604,\n",
       "  'support': 667.0},\n",
       " 'weighted avg': {'precision': 0.9209345606051309,\n",
       "  'recall': 0.9250374812593704,\n",
       "  'f1-score': 0.9200725843890111,\n",
       "  'support': 667.0}}"
      ]
     },
     "execution_count": 7,
     "metadata": {},
     "output_type": "execute_result"
    }
   ],
   "source": [
    "# Instantiating a RandomForest model\n",
    "from sklearn.ensemble import RandomForestClassifier\n",
    "\n",
    "randoforest = RandomForestClassifier(n_estimators=100, random_state=42)\n",
    "randoforest.fit(X_train, y_train)\n",
    "preds = randoforest.predict(X_test)\n",
    "results = classification_report(y_pred=preds, y_true=y_test, output_dict=True)\n",
    "results= classification_report(y_pred=preds, y_true=y_test, output_dict=True)\n",
    "results"
   ]
  }
 ],
 "metadata": {
  "kernelspec": {
   "display_name": "template_env",
   "language": "python",
   "name": "python3"
  },
  "language_info": {
   "codemirror_mode": {
    "name": "ipython",
    "version": 3
   },
   "file_extension": ".py",
   "mimetype": "text/x-python",
   "name": "python",
   "nbconvert_exporter": "python",
   "pygments_lexer": "ipython3",
   "version": "3.11.13"
  }
 },
 "nbformat": 4,
 "nbformat_minor": 5
}
