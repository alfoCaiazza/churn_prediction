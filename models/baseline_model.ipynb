{
 "cells": [
  {
   "cell_type": "code",
   "execution_count": 1,
   "id": "10e9cf4f",
   "metadata": {},
   "outputs": [],
   "source": [
    "import pandas as pd\n",
    "from sklearn.linear_model import LogisticRegression\n",
    "from sklearn.model_selection import train_test_split\n",
    "from sklearn.metrics import classification_report"
   ]
  },
  {
   "cell_type": "code",
   "execution_count": 2,
   "id": "0a02f97c",
   "metadata": {},
   "outputs": [],
   "source": [
    "DF_PATH = \"../data/dataframes/telecom_churn_scaled.csv\"\n",
    "\n",
    "df = pd.read_csv(DF_PATH)"
   ]
  },
  {
   "cell_type": "code",
   "execution_count": 3,
   "id": "c308f3d4",
   "metadata": {},
   "outputs": [],
   "source": [
    "# Train and test split\n",
    "X = df.drop(columns=['Churn'])\n",
    "y = df['Churn']\n",
    "X_train, X_test, y_train, y_test =  train_test_split(X, y, test_size=0.2, shuffle=True, stratify=y, random_state=42)"
   ]
  },
  {
   "cell_type": "code",
   "execution_count": 10,
   "id": "398d028c",
   "metadata": {},
   "outputs": [
    {
     "name": "stderr",
     "output_type": "stream",
     "text": [
      "/home/acaia/miniconda3/envs/template_env/lib/python3.11/site-packages/sklearn/linear_model/_sag.py:348: ConvergenceWarning: The max_iter was reached which means the coef_ did not converge\n",
      "  warnings.warn(\n"
     ]
    },
    {
     "data": {
      "text/plain": [
       "{'0': {'precision': 0.9419354838709677,\n",
       "  'recall': 0.512280701754386,\n",
       "  'f1-score': 0.6636363636363637,\n",
       "  'support': 570.0},\n",
       " '1': {'precision': 0.22128851540616246,\n",
       "  'recall': 0.8144329896907216,\n",
       "  'f1-score': 0.34801762114537443,\n",
       "  'support': 97.0},\n",
       " 'accuracy': 0.5562218890554723,\n",
       " 'macro avg': {'precision': 0.5816119996385651,\n",
       "  'recall': 0.6633568457225538,\n",
       "  'f1-score': 0.505826992390869,\n",
       "  'support': 667.0},\n",
       " 'weighted avg': {'precision': 0.8371337508258612,\n",
       "  'recall': 0.5562218890554723,\n",
       "  'f1-score': 0.6177367863925466,\n",
       "  'support': 667.0}}"
      ]
     },
     "execution_count": 10,
     "metadata": {},
     "output_type": "execute_result"
    }
   ],
   "source": [
    "# Instantiating a baseline model and fitting it\n",
    "log_reg = LogisticRegression(penalty='elasticnet', C=10, solver='saga', class_weight='balanced', l1_ratio=1, max_iter=1000)\n",
    "log_reg.fit(X_train, y_train)\n",
    "\n",
    "# Evaluating predictions\n",
    "preds = log_reg.predict(X_test)\n",
    "results = classification_report(y_true=y_test, y_pred=preds, output_dict=True)\n",
    "results"
   ]
  },
  {
   "cell_type": "code",
   "execution_count": 14,
   "id": "b3081d33",
   "metadata": {},
   "outputs": [
    {
     "data": {
      "text/plain": [
       "{'0': {'precision': 0.9390862944162437,\n",
       "  'recall': 0.9736842105263158,\n",
       "  'f1-score': 0.9560723514211886,\n",
       "  'support': 570.0},\n",
       " '1': {'precision': 0.8026315789473685,\n",
       "  'recall': 0.6288659793814433,\n",
       "  'f1-score': 0.7052023121387283,\n",
       "  'support': 97.0},\n",
       " 'accuracy': 0.9235382308845578,\n",
       " 'macro avg': {'precision': 0.870858936681806,\n",
       "  'recall': 0.8012750949538796,\n",
       "  'f1-score': 0.8306373317799585,\n",
       "  'support': 667.0},\n",
       " 'weighted avg': {'precision': 0.9192420554350129,\n",
       "  'recall': 0.9235382308845578,\n",
       "  'f1-score': 0.9195890023801111,\n",
       "  'support': 667.0}}"
      ]
     },
     "execution_count": 14,
     "metadata": {},
     "output_type": "execute_result"
    }
   ],
   "source": [
    "# Instantiating a RandomForest model\n",
    "from sklearn.tree import DecisionTreeClassifier\n",
    "from sklearn.ensemble import BaggingClassifier, RandomForestClassifier\n",
    "\n",
    "tree = DecisionTreeClassifier()\n",
    "bag_model = BaggingClassifier(tree, n_estimators=100, max_samples=0.8, random_state=42)\n",
    "bag_model.fit(X_train, y_train)\n",
    "preds = bag_model.predict(X_test)\n",
    "results = classification_report(y_pred=preds, y_true=y_test, output_dict=True)\n",
    "results"
   ]
  },
  {
   "cell_type": "code",
   "execution_count": 15,
   "id": "87c859d9",
   "metadata": {},
   "outputs": [
    {
     "data": {
      "text/plain": [
       "{'0': {'precision': 0.93929173693086,\n",
       "  'recall': 0.9771929824561404,\n",
       "  'f1-score': 0.9578675838349097,\n",
       "  'support': 570.0},\n",
       " '1': {'precision': 0.8243243243243243,\n",
       "  'recall': 0.6288659793814433,\n",
       "  'f1-score': 0.7134502923976608,\n",
       "  'support': 97.0},\n",
       " 'accuracy': 0.9265367316341829,\n",
       " 'macro avg': {'precision': 0.8818080306275922,\n",
       "  'recall': 0.8030294809187919,\n",
       "  'f1-score': 0.8356589381162852,\n",
       "  'support': 667.0},\n",
       " 'weighted avg': {'precision': 0.9225723380960266,\n",
       "  'recall': 0.9265367316341829,\n",
       "  'f1-score': 0.9223226404025062,\n",
       "  'support': 667.0}}"
      ]
     },
     "execution_count": 15,
     "metadata": {},
     "output_type": "execute_result"
    }
   ],
   "source": [
    "randoforest = RandomForestClassifier(n_estimators=100, random_state=42)\n",
    "randoforest.fit(X_train, y_train)\n",
    "preds = randoforest.predict(X_test)\n",
    "results = classification_report(y_pred=preds, y_true=y_test, output_dict=True)\n",
    "results"
   ]
  }
 ],
 "metadata": {
  "kernelspec": {
   "display_name": "template_env",
   "language": "python",
   "name": "python3"
  },
  "language_info": {
   "codemirror_mode": {
    "name": "ipython",
    "version": 3
   },
   "file_extension": ".py",
   "mimetype": "text/x-python",
   "name": "python",
   "nbconvert_exporter": "python",
   "pygments_lexer": "ipython3",
   "version": "3.11.13"
  }
 },
 "nbformat": 4,
 "nbformat_minor": 5
}
