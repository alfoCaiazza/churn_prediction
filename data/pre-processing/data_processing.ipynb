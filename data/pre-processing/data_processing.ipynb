{
 "cells": [
  {
   "cell_type": "code",
   "execution_count": 1,
   "id": "b0a42347",
   "metadata": {},
   "outputs": [],
   "source": [
    "import pandas as pd\n",
    "import numpy as np\n",
    "import matplotlib.pyplot as plt\n",
    "import seaborn as sns\n",
    "from sklearn.compose import ColumnTransformer\n",
    "from sklearn.preprocessing import OneHotEncoder, MinMaxScaler\n",
    "from sklearn.pipeline import Pipeline\n",
    "from sklearn.model_selection import train_test_split\n",
    "from imblearn.over_sampling import SMOTENC"
   ]
  },
  {
   "cell_type": "code",
   "execution_count": 2,
   "id": "d7e65f29",
   "metadata": {},
   "outputs": [],
   "source": [
    "DF_PATH = '../../data/spotify_churn_dataset.csv'"
   ]
  },
  {
   "cell_type": "code",
   "execution_count": 3,
   "id": "a81a67a6",
   "metadata": {},
   "outputs": [
    {
     "name": "stdout",
     "output_type": "stream",
     "text": [
      "<class 'pandas.core.frame.DataFrame'>\n",
      "Index: 8000 entries, 1 to 8000\n",
      "Data columns (total 11 columns):\n",
      " #   Column                 Non-Null Count  Dtype  \n",
      "---  ------                 --------------  -----  \n",
      " 0   gender                 8000 non-null   object \n",
      " 1   age                    8000 non-null   int64  \n",
      " 2   country                8000 non-null   object \n",
      " 3   subscription_type      8000 non-null   object \n",
      " 4   listening_time         8000 non-null   int64  \n",
      " 5   songs_played_per_day   8000 non-null   int64  \n",
      " 6   skip_rate              8000 non-null   float64\n",
      " 7   device_type            8000 non-null   object \n",
      " 8   ads_listened_per_week  8000 non-null   int64  \n",
      " 9   offline_listening      8000 non-null   int64  \n",
      " 10  is_churned             8000 non-null   int64  \n",
      "dtypes: float64(1), int64(6), object(4)\n",
      "memory usage: 750.0+ KB\n"
     ]
    }
   ],
   "source": [
    "df = pd.read_csv(DF_PATH, index_col=0)\n",
    "df.info()"
   ]
  },
  {
   "cell_type": "code",
   "execution_count": 4,
   "id": "27820691",
   "metadata": {},
   "outputs": [
    {
     "data": {
      "text/plain": [
       "is_churned\n",
       "0    5929\n",
       "1    2071\n",
       "Name: count, dtype: int64"
      ]
     },
     "execution_count": 4,
     "metadata": {},
     "output_type": "execute_result"
    }
   ],
   "source": [
    "df['is_churned'].value_counts()"
   ]
  },
  {
   "cell_type": "code",
   "execution_count": 5,
   "id": "919ea7ab",
   "metadata": {},
   "outputs": [],
   "source": [
    "# Defining train and test splits\n",
    "X = df.drop('is_churned', axis=1)\n",
    "y = df['is_churned']\n",
    "\n",
    "X_train, X_test , y_train, y_test = train_test_split(X, y, test_size=0.2, random_state=42, stratify=y)"
   ]
  },
  {
   "cell_type": "code",
   "execution_count": 6,
   "id": "bfbabfa5",
   "metadata": {},
   "outputs": [
    {
     "name": "stdout",
     "output_type": "stream",
     "text": [
      "gender: ['Female' 'Other' 'Male']\n",
      "country: ['CA' 'DE' 'AU' 'US' 'UK' 'IN' 'FR' 'PK']\n",
      "subscription_type: ['Free' 'Family' 'Premium' 'Student']\n",
      "device_type: ['Desktop' 'Web' 'Mobile']\n"
     ]
    }
   ],
   "source": [
    "obj_columns = X_train.select_dtypes(include='object').columns\n",
    "obj_columns\n",
    "for col in obj_columns:\n",
    "    print(f\"{col}: {X[col].unique()}\")\n",
    "\n",
    "obj_cols_index = [X_train.columns.get_loc(col) for col in obj_columns]"
   ]
  },
  {
   "cell_type": "code",
   "execution_count": 7,
   "id": "18bc78f6",
   "metadata": {},
   "outputs": [
    {
     "data": {
      "text/plain": [
       "Index(['age', 'listening_time', 'songs_played_per_day', 'skip_rate',\n",
       "       'ads_listened_per_week', 'offline_listening'],\n",
       "      dtype='object')"
      ]
     },
     "execution_count": 7,
     "metadata": {},
     "output_type": "execute_result"
    }
   ],
   "source": [
    "num_columns = X_train.select_dtypes(include=['int64', 'float64']).columns\n",
    "num_columns"
   ]
  },
  {
   "cell_type": "code",
   "execution_count": 8,
   "id": "ebfc9f3c",
   "metadata": {},
   "outputs": [
    {
     "name": "stdout",
     "output_type": "stream",
     "text": [
      "Before SMOTENC:  is_churned\n",
      "0    4743\n",
      "1    1657\n",
      "Name: count, dtype: int64\n",
      "After SMOTENC:  is_churned\n",
      "0    4743\n",
      "1    4743\n",
      "Name: count, dtype: int64\n"
     ]
    }
   ],
   "source": [
    "# Data augmentation pipeline on training test\n",
    "smotenc_module = SMOTENC(categorical_features=obj_cols_index, sampling_strategy='minority', random_state=42)\n",
    "X_train_res, y_train_res = smotenc_module.fit_resample(X_train, y_train)\n",
    "\n",
    "# Samples count check\n",
    "print(\"Before SMOTENC: \", y_train.value_counts())\n",
    "print(\"After SMOTENC: \", y_train_res.value_counts())"
   ]
  },
  {
   "cell_type": "code",
   "execution_count": 9,
   "id": "7aa98fc5",
   "metadata": {},
   "outputs": [],
   "source": [
    "# Defining a data transformation pipeline\n",
    "preprocessor = ColumnTransformer(\n",
    "    transformers=[\n",
    "        ('cat', OneHotEncoder(), obj_columns),\n",
    "        ('num', MinMaxScaler(), num_columns)\n",
    "    ]\n",
    ")"
   ]
  },
  {
   "cell_type": "code",
   "execution_count": 10,
   "id": "1f6cece1",
   "metadata": {},
   "outputs": [],
   "source": [
    "# Applying transformations pipeline\n",
    "X_train_transformed  = preprocessor.fit_transform(X_train_res)\n",
    "X_test_transformed = preprocessor.transform(X_test)\n",
    "\n",
    "# Rebuild train and test dataframes\n",
    "encoded_columns = preprocessor.named_transformers_['cat'].get_feature_names_out(obj_columns)\n",
    "all_features = list(encoded_columns) + list(num_columns)\n",
    "X_train = pd.DataFrame(X_train_transformed, columns=all_features, index=X_train_res.index)\n",
    "X_test = pd.DataFrame(X_test_transformed, columns=all_features, index=X_test.index)"
   ]
  },
  {
   "cell_type": "code",
   "execution_count": 13,
   "id": "c061e32f",
   "metadata": {},
   "outputs": [],
   "source": [
    "# Saving tranformed dataframe\n",
    "X_train.to_csv('../../data/splits/X_train.csv', index=True)\n",
    "y_train_res.to_csv('../../data/splits/y_train.csv', index=True)\n",
    "\n",
    "X_test.to_csv('../../data/splits/X_test.csv', index=True)\n",
    "y_test.to_csv('../../data/splits/y_test.csv', index=True)"
   ]
  }
 ],
 "metadata": {
  "kernelspec": {
   "display_name": "template_env",
   "language": "python",
   "name": "python3"
  },
  "language_info": {
   "codemirror_mode": {
    "name": "ipython",
    "version": 3
   },
   "file_extension": ".py",
   "mimetype": "text/x-python",
   "name": "python",
   "nbconvert_exporter": "python",
   "pygments_lexer": "ipython3",
   "version": "3.11.13"
  }
 },
 "nbformat": 4,
 "nbformat_minor": 5
}
