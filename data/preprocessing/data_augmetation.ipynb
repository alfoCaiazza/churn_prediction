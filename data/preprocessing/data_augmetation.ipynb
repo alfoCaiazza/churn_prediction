{
 "cells": [
  {
   "cell_type": "code",
   "execution_count": 18,
   "id": "908af37d",
   "metadata": {},
   "outputs": [],
   "source": [
    "import pandas as pd\n",
    "import numpy as np\n",
    "from imblearn.over_sampling import SMOTE\n",
    "from sklearn.model_selection import train_test_split"
   ]
  },
  {
   "cell_type": "code",
   "execution_count": 19,
   "id": "55c6b9a0",
   "metadata": {},
   "outputs": [],
   "source": [
    "# Loading the dataset\n",
    "DF_PATH = '../../data/dataframes/telecom_churn_scaled.csv'\n",
    "df = pd.read_csv(DF_PATH)\n",
    "\n",
    "X = df.drop(columns=['Churn'])\n",
    "y = df['Churn']\n",
    "X_train, X_test, y_train, y_test = train_test_split(X, y, test_size=0.2, stratify=y, shuffle=True, random_state=42)"
   ]
  },
  {
   "cell_type": "code",
   "execution_count": 20,
   "id": "a828f300",
   "metadata": {},
   "outputs": [],
   "source": [
    "# Instantiating the SMOTE model\n",
    "smote = SMOTE(random_state=42)\n",
    "X_res, y_res = smote.fit_resample(X_train, y_train)"
   ]
  },
  {
   "cell_type": "code",
   "execution_count": 21,
   "id": "46601254",
   "metadata": {},
   "outputs": [
    {
     "data": {
      "text/plain": [
       "(Churn\n",
       " 0    2280\n",
       " 1     386\n",
       " Name: count, dtype: int64,\n",
       " Churn\n",
       " 0    2280\n",
       " 1    2280\n",
       " Name: count, dtype: int64)"
      ]
     },
     "execution_count": 21,
     "metadata": {},
     "output_type": "execute_result"
    }
   ],
   "source": [
    "# Results report\n",
    "y_train.value_counts(), y_res.value_counts()"
   ]
  },
  {
   "cell_type": "code",
   "execution_count": 22,
   "id": "f1dc0ffd",
   "metadata": {},
   "outputs": [],
   "source": [
    "# Saving partitions\n",
    "BASE_PATH = '../../data/dataframes/partitions/'\n",
    "X_res.to_csv(BASE_PATH + 'Xtrain.csv', index=False)\n",
    "y_res.to_csv(BASE_PATH + 'ytrain.csv', index=False, header=True)\n",
    "X_test.to_csv(BASE_PATH + 'Xtest.csv', index=False)\n",
    "y_test.to_csv(BASE_PATH + 'ytest.csv' , index=False, header=True)"
   ]
  }
 ],
 "metadata": {
  "kernelspec": {
   "display_name": "template_env",
   "language": "python",
   "name": "python3"
  },
  "language_info": {
   "codemirror_mode": {
    "name": "ipython",
    "version": 3
   },
   "file_extension": ".py",
   "mimetype": "text/x-python",
   "name": "python",
   "nbconvert_exporter": "python",
   "pygments_lexer": "ipython3",
   "version": "3.11.13"
  }
 },
 "nbformat": 4,
 "nbformat_minor": 5
}
